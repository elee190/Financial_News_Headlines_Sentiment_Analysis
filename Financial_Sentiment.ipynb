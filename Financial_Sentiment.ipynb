{
 "cells": [
  {
   "cell_type": "markdown",
   "metadata": {},
   "source": [
    "This notebook takes ~2 hours to finish."
   ]
  },
  {
   "cell_type": "markdown",
   "metadata": {},
   "source": [
    "## 1. Data preprocessing & clean-up"
   ]
  },
  {
   "cell_type": "markdown",
   "metadata": {},
   "source": [
    "### 1a. Load tokenizers for LSTM and FinBERT models"
   ]
  },
  {
   "cell_type": "code",
   "execution_count": 1,
   "metadata": {},
   "outputs": [],
   "source": [
    "# Suppress warnings\n",
    "import warnings\n",
    "warnings.filterwarnings(\"ignore\")\n",
    "\n",
    "# Install all packages\n",
    "# Note: to make tensorflow loaded, please downgrade/update to python 3.7\n",
    "# Suggest downloading conda: https://repo.anaconda.com/archive/ with version 2019.10\n",
    "import numpy as np\n",
    "import pandas as pd \n",
    "from tqdm.notebook import tqdm\n",
    "import tensorflow as tf\n",
    "import datetime as dt\n",
    "from tensorflow.keras.preprocessing.text import Tokenizer\n",
    "from tensorflow.keras.preprocessing.sequence import pad_sequences\n",
    "from tensorflow.keras.models import Sequential\n",
    "from tensorflow.keras.layers import Dense\n",
    "from tensorflow.keras.callbacks import EarlyStopping\n",
    "from tensorflow.keras.optimizers import Adam\n",
    "import yfinance as yf\n",
    "import holidays\n",
    "import pickle\n",
    "import torch\n",
    "import torch.nn.functional as F\n",
    "import re\n",
    "from sklearn.model_selection import train_test_split\n",
    "from tensorflow.keras.layers.experimental import preprocessing\n",
    "from transformers import AutoTokenizer, AutoModelForSequenceClassification\n",
    "\n",
    "\n",
    "# Set up parameters for LSTM model\n",
    "max_features = 20000\n",
    "maxlen = 100\n",
    "# loading tokenizer for LSTM model, which serves as a dictionary of words\n",
    "with open('Data/tokenizer.pickle', 'rb') as handle:\n",
    "    tokenizer = pickle.load(handle)\n",
    "\n",
    "# loading tokenizer for FINBERT model\n",
    "tokenizer1 = AutoTokenizer.from_pretrained(\"ProsusAI/finbert\")"
   ]
  },
  {
   "cell_type": "code",
   "execution_count": 2,
   "metadata": {},
   "outputs": [],
   "source": [
    "# Load LSTM model from local\n",
    "LSTM_model = tf.keras.models.load_model('Data/Model1-LSTM.h5', compile = False)"
   ]
  },
  {
   "cell_type": "code",
   "execution_count": 3,
   "metadata": {},
   "outputs": [],
   "source": [
    "# Load FINBERT model from FINBERT Github\n",
    "BERT_model = AutoModelForSequenceClassification.from_pretrained(\"ProsusAI/finbert\")"
   ]
  },
  {
   "cell_type": "markdown",
   "metadata": {},
   "source": [
    "### 1b. Data preprocessing"
   ]
  },
  {
   "cell_type": "code",
   "execution_count": 4,
   "metadata": {},
   "outputs": [],
   "source": [
    "# Initial data preprocessing for two datasets with headline data\n",
    "data1 = pd.read_csv('Data/analyst_ratings_processed.csv', index_col=0)\n",
    "data1.dropna(inplace = True)\n",
    "data1.rename(columns={'stock':'ticker'}, inplace=True)\n",
    "data1['date'] = data1['date'].apply(lambda x : x.split()[0])\n",
    "data2 = pd.read_csv('Data/us_equities_news_dataset.csv', index_col=0)\n",
    "data2.dropna(inplace = True)\n",
    "data2.reset_index(drop=True, inplace=True)\n",
    "data2.rename(columns={'release_date':'date'}, inplace=True)\n",
    "data2.drop(inplace=True, columns=['category', 'content', 'provider', 'url', 'article_id'], axis=1)"
   ]
  },
  {
   "cell_type": "code",
   "execution_count": 5,
   "metadata": {},
   "outputs": [],
   "source": [
    "# Combine two datasets\n",
    "rawdata = pd.concat([data1, data2])\n",
    "# Drop duplicates\n",
    "rawdata.drop_duplicates(keep='first', inplace=True)"
   ]
  },
  {
   "cell_type": "markdown",
   "metadata": {},
   "source": [
    "### 1c. Missing data by column"
   ]
  },
  {
   "cell_type": "code",
   "execution_count": 6,
   "metadata": {},
   "outputs": [
    {
     "data": {
      "text/html": [
       "<div>\n",
       "<style scoped>\n",
       "    .dataframe tbody tr th:only-of-type {\n",
       "        vertical-align: middle;\n",
       "    }\n",
       "\n",
       "    .dataframe tbody tr th {\n",
       "        vertical-align: top;\n",
       "    }\n",
       "\n",
       "    .dataframe thead th {\n",
       "        text-align: right;\n",
       "    }\n",
       "</style>\n",
       "<table border=\"1\" class=\"dataframe\">\n",
       "  <thead>\n",
       "    <tr style=\"text-align: right;\">\n",
       "      <th></th>\n",
       "      <th>Col Name</th>\n",
       "      <th>Missing %</th>\n",
       "    </tr>\n",
       "  </thead>\n",
       "  <tbody>\n",
       "    <tr>\n",
       "      <th>0</th>\n",
       "      <td>title</td>\n",
       "      <td>0.0%</td>\n",
       "    </tr>\n",
       "    <tr>\n",
       "      <th>1</th>\n",
       "      <td>date</td>\n",
       "      <td>0.0%</td>\n",
       "    </tr>\n",
       "    <tr>\n",
       "      <th>2</th>\n",
       "      <td>ticker</td>\n",
       "      <td>0.0%</td>\n",
       "    </tr>\n",
       "  </tbody>\n",
       "</table>\n",
       "</div>"
      ],
      "text/plain": [
       "  Col Name Missing %\n",
       "0    title      0.0%\n",
       "1     date      0.0%\n",
       "2   ticker      0.0%"
      ]
     },
     "execution_count": 6,
     "metadata": {},
     "output_type": "execute_result"
    }
   ],
   "source": [
    "# Calculate missing data % by column\n",
    "def missing_perc(df):\n",
    "    missing_df = pd.DataFrame()\n",
    "    missing_df['Col Name'] = list(df.columns)\n",
    "    missing_df['Missing %'] = [round(i/df.shape[0] * 100,2) for i in df.isnull().sum()]\n",
    "    missing_df.sort_values(by=['Missing %'], ascending=False,inplace=True)\n",
    "    missing_df['Missing %'] = missing_df['Missing %'].astype('str') + '%'\n",
    "    pd.set_option('display.max_rows', None)\n",
    "    return missing_df\n",
    "missing_perc(rawdata)"
   ]
  },
  {
   "cell_type": "markdown",
   "metadata": {},
   "source": [
    "No missing data!"
   ]
  },
  {
   "cell_type": "markdown",
   "metadata": {},
   "source": [
    "## 2. Processing headline text with NLP"
   ]
  },
  {
   "cell_type": "markdown",
   "metadata": {},
   "source": [
    "### 2a. Create headline dictionary"
   ]
  },
  {
   "cell_type": "code",
   "execution_count": 7,
   "metadata": {},
   "outputs": [],
   "source": [
    "# A list of tickers selected based on our research\n",
    "# We will use the sentiment scores of these tickers for the Fama French model\n",
    "tickerSymbols = [\"AAPL\",\"IBM\",\"NFLX\",\"AMZN\",\"MU\",\"BAC\",\"AMC\",\"GE\",\"MSFT\",\"GOOG\",\"GME\",\"TSLA\"]"
   ]
  },
  {
   "cell_type": "code",
   "execution_count": 8,
   "metadata": {},
   "outputs": [
    {
     "data": {
      "application/vnd.jupyter.widget-view+json": {
       "model_id": "8e8c8049f71e45c7ae4163d40e37204a",
       "version_major": 2,
       "version_minor": 0
      },
      "text/plain": [
       "  0%|          | 0/2353 [00:00<?, ?it/s]"
      ]
     },
     "metadata": {},
     "output_type": "display_data"
    },
    {
     "data": {
      "application/vnd.jupyter.widget-view+json": {
       "model_id": "ba5b804188764a56a9b5d9e1d8277db5",
       "version_major": 2,
       "version_minor": 0
      },
      "text/plain": [
       "  0%|          | 0/1053 [00:00<?, ?it/s]"
      ]
     },
     "metadata": {},
     "output_type": "display_data"
    },
    {
     "data": {
      "application/vnd.jupyter.widget-view+json": {
       "model_id": "2e6ab163b20f479a866016911de07471",
       "version_major": 2,
       "version_minor": 0
      },
      "text/plain": [
       "  0%|          | 0/1472 [00:00<?, ?it/s]"
      ]
     },
     "metadata": {},
     "output_type": "display_data"
    },
    {
     "data": {
      "application/vnd.jupyter.widget-view+json": {
       "model_id": "a98f031657d845eead7e980661dfb1f3",
       "version_major": 2,
       "version_minor": 0
      },
      "text/plain": [
       "  0%|          | 0/1509 [00:00<?, ?it/s]"
      ]
     },
     "metadata": {},
     "output_type": "display_data"
    },
    {
     "data": {
      "application/vnd.jupyter.widget-view+json": {
       "model_id": "ed45adc10ea842bb80d355d0bf47e944",
       "version_major": 2,
       "version_minor": 0
      },
      "text/plain": [
       "  0%|          | 0/1541 [00:00<?, ?it/s]"
      ]
     },
     "metadata": {},
     "output_type": "display_data"
    },
    {
     "data": {
      "application/vnd.jupyter.widget-view+json": {
       "model_id": "c946221940544a82b469f8bdf6e3e90a",
       "version_major": 2,
       "version_minor": 0
      },
      "text/plain": [
       "  0%|          | 0/2547 [00:00<?, ?it/s]"
      ]
     },
     "metadata": {},
     "output_type": "display_data"
    },
    {
     "data": {
      "application/vnd.jupyter.widget-view+json": {
       "model_id": "f35f4da2834142f7bbef3e0f3422a126",
       "version_major": 2,
       "version_minor": 0
      },
      "text/plain": [
       "  0%|          | 0/163 [00:00<?, ?it/s]"
      ]
     },
     "metadata": {},
     "output_type": "display_data"
    },
    {
     "data": {
      "application/vnd.jupyter.widget-view+json": {
       "model_id": "c43d8d2663f543f39b0acbf55f477829",
       "version_major": 2,
       "version_minor": 0
      },
      "text/plain": [
       "  0%|          | 0/1119 [00:00<?, ?it/s]"
      ]
     },
     "metadata": {},
     "output_type": "display_data"
    },
    {
     "data": {
      "application/vnd.jupyter.widget-view+json": {
       "model_id": "0e9165c81a444fe39d345586fb6145c1",
       "version_major": 2,
       "version_minor": 0
      },
      "text/plain": [
       "  0%|          | 0/1760 [00:00<?, ?it/s]"
      ]
     },
     "metadata": {},
     "output_type": "display_data"
    },
    {
     "data": {
      "application/vnd.jupyter.widget-view+json": {
       "model_id": "1e32d341b0ab444f9a5d7c2ef9935962",
       "version_major": 2,
       "version_minor": 0
      },
      "text/plain": [
       "  0%|          | 0/377 [00:00<?, ?it/s]"
      ]
     },
     "metadata": {},
     "output_type": "display_data"
    },
    {
     "data": {
      "application/vnd.jupyter.widget-view+json": {
       "model_id": "8eac671ea00442f89e199ae59c848ef0",
       "version_major": 2,
       "version_minor": 0
      },
      "text/plain": [
       "  0%|          | 0/765 [00:00<?, ?it/s]"
      ]
     },
     "metadata": {},
     "output_type": "display_data"
    },
    {
     "data": {
      "application/vnd.jupyter.widget-view+json": {
       "model_id": "a7be428f9f324541be32e3311de71dfb",
       "version_major": 2,
       "version_minor": 0
      },
      "text/plain": [
       "  0%|          | 0/1480 [00:00<?, ?it/s]"
      ]
     },
     "metadata": {},
     "output_type": "display_data"
    }
   ],
   "source": [
    "# Create headline dictionary for tickers listed above with date as key and headlines as value\n",
    "hl_dict = {}\n",
    "# variable for tqdm progress bar use\n",
    "# total = rawdata['date'].nunique()\n",
    "for ticker in tickerSymbols:\n",
    "    hl_dict[ticker] = {}\n",
    "    for i in tqdm(rawdata[rawdata['ticker']==ticker]['date'].unique()):\n",
    "        hl_dict[ticker][i] = rawdata.loc[(rawdata['ticker'] == ticker) & (rawdata['date'] == i)]['title'].tolist()"
   ]
  },
  {
   "cell_type": "markdown",
   "metadata": {},
   "source": [
    "### 2a. Define LSTM and FinBERT models"
   ]
  },
  {
   "cell_type": "code",
   "execution_count": 9,
   "metadata": {},
   "outputs": [],
   "source": [
    "# Sentiment converter from LSTM model\n",
    "def findPercentageBySentences(sentenceList):\n",
    "    posAvg, negAvg, neuAvg = 0, 0, 0\n",
    "    for sentence in sentenceList:\n",
    "        # Convert each head line into a vector, \n",
    "        # with each integer being the index of a token in a dictionary\n",
    "        token = tokenizer.texts_to_sequences([sentence])\n",
    "        # This function transforms a list of lists of integers\n",
    "        # into a 2D Numpy array of shape (num_samples, num_timesteps). \n",
    "        # num_timesteps is either the maxlen argument if provided, \n",
    "        # or the length of the longest sequence in the list.\n",
    "        X = pad_sequences(token, maxlen=maxlen)\n",
    "        # Run pre-defined LSTM model to calculate sentiment scores\n",
    "        # The sentiment scores have three categories: negative, neutral\n",
    "        # and positive with scale of 0 to 100.\n",
    "        sentiment_dict = LSTM_model.predict(X).tolist()[0]\n",
    "        negAvg += sentiment_dict[0]\n",
    "        neuAvg += sentiment_dict[1]\n",
    "        posAvg += sentiment_dict[2]\n",
    "    posAvg=(posAvg/len(sentenceList))*100\n",
    "    negAvg=(negAvg/len(sentenceList))*100\n",
    "    neuAvg=(neuAvg/len(sentenceList))*100\n",
    "    return {'numArticles': len(sentenceList), 'pos': posAvg, 'neg': negAvg, 'neu' : neuAvg}"
   ]
  },
  {
   "cell_type": "code",
   "execution_count": 10,
   "metadata": {},
   "outputs": [],
   "source": [
    "# Function to convert headline list into sentiment scores\n",
    "def SentimentAnalyzer(doc):\n",
    "    # Convert head line list into multiple BatchEncoding objects\n",
    "    pt_batch = tokenizer1(doc,padding=True,truncation=True,max_length=512,return_tensors=\"pt\")\n",
    "    # The pre trained BERT_model transforms multiple BatchEncoding objects\n",
    "    # into a sequence classifier output, with each row represents headline and three columns representing\n",
    "    # positive, neatral and negative sentiment scores\n",
    "    outputs = BERT_model(**pt_batch)\n",
    "    # Applies softmax function on sequence classifier output\n",
    "    # and convert the results to a tensor object matrix\n",
    "    # Softmax function is defined as exp(Xi)/SigmaSum(Xj)\n",
    "    pt_predictions = F.softmax(outputs.logits, dim=-1)\n",
    "    # Return numpy matrix with each row represents headline and three columns representing\n",
    "    # positive, neatral and negative sentiment scores\n",
    "    return pt_predictions.detach().cpu().numpy()"
   ]
  },
  {
   "cell_type": "code",
   "execution_count": 11,
   "metadata": {},
   "outputs": [],
   "source": [
    "# Sentiment converter from FINBERT model\n",
    "def findPercentageBySentences1(sentenceList):\n",
    "    posAvg, negAvg, neuAvg = 0, 0, 0\n",
    "    # Convert headline list into sentiment scores\n",
    "    sentimentArr = SentimentAnalyzer(sentenceList)\n",
    "    # Take average of headlines for positive, neutral and negative scores\n",
    "    sentimentArr = np.mean(sentimentArr, axis=0)\n",
    "    posAvg=sentimentArr[0]*100\n",
    "    negAvg=sentimentArr[1]*100\n",
    "    neuAvg=sentimentArr[2]*100\n",
    "    return {'numArticles': len(sentenceList), 'pos': posAvg, 'neg': negAvg, 'neu' : neuAvg}"
   ]
  },
  {
   "cell_type": "markdown",
   "metadata": {},
   "source": [
    "### 2c. Create sentiment score dictionary"
   ]
  },
  {
   "cell_type": "code",
   "execution_count": 12,
   "metadata": {
    "scrolled": true
   },
   "outputs": [
    {
     "data": {
      "application/vnd.jupyter.widget-view+json": {
       "model_id": "15c6aabe829d49368bd1e723375241be",
       "version_major": 2,
       "version_minor": 0
      },
      "text/plain": [
       "  0%|          | 0/2353 [00:00<?, ?it/s]"
      ]
     },
     "metadata": {},
     "output_type": "display_data"
    },
    {
     "data": {
      "application/vnd.jupyter.widget-view+json": {
       "model_id": "b7236856cd4b4e11b16f0799e8a14f69",
       "version_major": 2,
       "version_minor": 0
      },
      "text/plain": [
       "  0%|          | 0/1053 [00:00<?, ?it/s]"
      ]
     },
     "metadata": {},
     "output_type": "display_data"
    },
    {
     "data": {
      "application/vnd.jupyter.widget-view+json": {
       "model_id": "adb072b0964a42cd8bd4c7629905d4e1",
       "version_major": 2,
       "version_minor": 0
      },
      "text/plain": [
       "  0%|          | 0/1472 [00:00<?, ?it/s]"
      ]
     },
     "metadata": {},
     "output_type": "display_data"
    },
    {
     "data": {
      "application/vnd.jupyter.widget-view+json": {
       "model_id": "723d4036a5154e5c8acc63f92f592f54",
       "version_major": 2,
       "version_minor": 0
      },
      "text/plain": [
       "  0%|          | 0/1509 [00:00<?, ?it/s]"
      ]
     },
     "metadata": {},
     "output_type": "display_data"
    },
    {
     "data": {
      "application/vnd.jupyter.widget-view+json": {
       "model_id": "cebec452182c42d5951921df8ed119c2",
       "version_major": 2,
       "version_minor": 0
      },
      "text/plain": [
       "  0%|          | 0/1541 [00:00<?, ?it/s]"
      ]
     },
     "metadata": {},
     "output_type": "display_data"
    },
    {
     "data": {
      "application/vnd.jupyter.widget-view+json": {
       "model_id": "a34c2ee2a3f0439696fea85831cf91a9",
       "version_major": 2,
       "version_minor": 0
      },
      "text/plain": [
       "  0%|          | 0/2547 [00:00<?, ?it/s]"
      ]
     },
     "metadata": {},
     "output_type": "display_data"
    },
    {
     "data": {
      "application/vnd.jupyter.widget-view+json": {
       "model_id": "d50091b8ea5f4b0cb067cf0bd6b6b178",
       "version_major": 2,
       "version_minor": 0
      },
      "text/plain": [
       "  0%|          | 0/163 [00:00<?, ?it/s]"
      ]
     },
     "metadata": {},
     "output_type": "display_data"
    },
    {
     "data": {
      "application/vnd.jupyter.widget-view+json": {
       "model_id": "406e84e910ea4205a7720f9878964e6f",
       "version_major": 2,
       "version_minor": 0
      },
      "text/plain": [
       "  0%|          | 0/1119 [00:00<?, ?it/s]"
      ]
     },
     "metadata": {},
     "output_type": "display_data"
    },
    {
     "data": {
      "application/vnd.jupyter.widget-view+json": {
       "model_id": "ce21358c8a1a40d1b8c16e24d8f5ea06",
       "version_major": 2,
       "version_minor": 0
      },
      "text/plain": [
       "  0%|          | 0/1760 [00:00<?, ?it/s]"
      ]
     },
     "metadata": {},
     "output_type": "display_data"
    },
    {
     "data": {
      "application/vnd.jupyter.widget-view+json": {
       "model_id": "02d09fdc44b64d719055c655c3131c3d",
       "version_major": 2,
       "version_minor": 0
      },
      "text/plain": [
       "  0%|          | 0/377 [00:00<?, ?it/s]"
      ]
     },
     "metadata": {},
     "output_type": "display_data"
    },
    {
     "data": {
      "application/vnd.jupyter.widget-view+json": {
       "model_id": "e7081af7d1ba4be183140f91f5bdaa24",
       "version_major": 2,
       "version_minor": 0
      },
      "text/plain": [
       "  0%|          | 0/765 [00:00<?, ?it/s]"
      ]
     },
     "metadata": {},
     "output_type": "display_data"
    },
    {
     "data": {
      "application/vnd.jupyter.widget-view+json": {
       "model_id": "e3352243ed2a4ef581b2a5238682a7d5",
       "version_major": 2,
       "version_minor": 0
      },
      "text/plain": [
       "  0%|          | 0/1480 [00:00<?, ?it/s]"
      ]
     },
     "metadata": {},
     "output_type": "display_data"
    }
   ],
   "source": [
    "# Append # of articles and sentiment scores of each date to a dictionary\n",
    "# This is for LSTM model\n",
    "ss_dict = {}\n",
    "# This is for FINBERT model\n",
    "ss_dict1 = {}\n",
    "for ticker in hl_dict:\n",
    "    ss_dict[ticker] = {}\n",
    "    ss_dict1[ticker] = {}\n",
    "    for i in tqdm(hl_dict[ticker]):\n",
    "            ss_dict[ticker][i] = findPercentageBySentences(hl_dict[ticker][i])\n",
    "            ss_dict1[ticker][i] = findPercentageBySentences1(hl_dict[ticker][i])"
   ]
  },
  {
   "cell_type": "markdown",
   "metadata": {},
   "source": [
    "### 2d. Create dataframes storing final score and daily return"
   ]
  },
  {
   "cell_type": "code",
   "execution_count": 13,
   "metadata": {},
   "outputs": [
    {
     "name": "stdout",
     "output_type": "stream",
     "text": [
      "[*********************100%***********************]  1 of 1 completed\n"
     ]
    },
    {
     "data": {
      "application/vnd.jupyter.widget-view+json": {
       "model_id": "b0c7abfcd99047cbbdd8e5225669c186",
       "version_major": 2,
       "version_minor": 0
      },
      "text/plain": [
       "  0%|          | 0/2353 [00:00<?, ?it/s]"
      ]
     },
     "metadata": {},
     "output_type": "display_data"
    },
    {
     "name": "stdout",
     "output_type": "stream",
     "text": [
      "[*********************100%***********************]  1 of 1 completed\n"
     ]
    },
    {
     "data": {
      "application/vnd.jupyter.widget-view+json": {
       "model_id": "380fc444907b409da99064144dc94ace",
       "version_major": 2,
       "version_minor": 0
      },
      "text/plain": [
       "  0%|          | 0/1053 [00:00<?, ?it/s]"
      ]
     },
     "metadata": {},
     "output_type": "display_data"
    },
    {
     "name": "stdout",
     "output_type": "stream",
     "text": [
      "[*********************100%***********************]  1 of 1 completed\n"
     ]
    },
    {
     "data": {
      "application/vnd.jupyter.widget-view+json": {
       "model_id": "6cc935428a3946e2bb56bddf43818a37",
       "version_major": 2,
       "version_minor": 0
      },
      "text/plain": [
       "  0%|          | 0/1472 [00:00<?, ?it/s]"
      ]
     },
     "metadata": {},
     "output_type": "display_data"
    },
    {
     "name": "stdout",
     "output_type": "stream",
     "text": [
      "[*********************100%***********************]  1 of 1 completed\n"
     ]
    },
    {
     "data": {
      "application/vnd.jupyter.widget-view+json": {
       "model_id": "227518bd9eec42a18c3c658487fb0cc8",
       "version_major": 2,
       "version_minor": 0
      },
      "text/plain": [
       "  0%|          | 0/1509 [00:00<?, ?it/s]"
      ]
     },
     "metadata": {},
     "output_type": "display_data"
    },
    {
     "name": "stdout",
     "output_type": "stream",
     "text": [
      "[*********************100%***********************]  1 of 1 completed\n"
     ]
    },
    {
     "data": {
      "application/vnd.jupyter.widget-view+json": {
       "model_id": "318896af5ebd42a1b98e37189d861fdb",
       "version_major": 2,
       "version_minor": 0
      },
      "text/plain": [
       "  0%|          | 0/1541 [00:00<?, ?it/s]"
      ]
     },
     "metadata": {},
     "output_type": "display_data"
    },
    {
     "name": "stdout",
     "output_type": "stream",
     "text": [
      "[*********************100%***********************]  1 of 1 completed\n"
     ]
    },
    {
     "data": {
      "application/vnd.jupyter.widget-view+json": {
       "model_id": "4668d13710594d0baaa0e9f1c7b4f1df",
       "version_major": 2,
       "version_minor": 0
      },
      "text/plain": [
       "  0%|          | 0/2547 [00:00<?, ?it/s]"
      ]
     },
     "metadata": {},
     "output_type": "display_data"
    },
    {
     "name": "stdout",
     "output_type": "stream",
     "text": [
      "[*********************100%***********************]  1 of 1 completed\n"
     ]
    },
    {
     "data": {
      "application/vnd.jupyter.widget-view+json": {
       "model_id": "b7e9933efc97495e80feb789223ae12b",
       "version_major": 2,
       "version_minor": 0
      },
      "text/plain": [
       "  0%|          | 0/163 [00:00<?, ?it/s]"
      ]
     },
     "metadata": {},
     "output_type": "display_data"
    },
    {
     "name": "stdout",
     "output_type": "stream",
     "text": [
      "[*********************100%***********************]  1 of 1 completed\n"
     ]
    },
    {
     "data": {
      "application/vnd.jupyter.widget-view+json": {
       "model_id": "f8e7c9b01e014127994843c6c6726b2c",
       "version_major": 2,
       "version_minor": 0
      },
      "text/plain": [
       "  0%|          | 0/1119 [00:00<?, ?it/s]"
      ]
     },
     "metadata": {},
     "output_type": "display_data"
    },
    {
     "name": "stdout",
     "output_type": "stream",
     "text": [
      "[*********************100%***********************]  1 of 1 completed\n"
     ]
    },
    {
     "data": {
      "application/vnd.jupyter.widget-view+json": {
       "model_id": "75e3dcb78944463a8cb16b15f0ebc68f",
       "version_major": 2,
       "version_minor": 0
      },
      "text/plain": [
       "  0%|          | 0/1760 [00:00<?, ?it/s]"
      ]
     },
     "metadata": {},
     "output_type": "display_data"
    },
    {
     "name": "stdout",
     "output_type": "stream",
     "text": [
      "[*********************100%***********************]  1 of 1 completed\n"
     ]
    },
    {
     "data": {
      "application/vnd.jupyter.widget-view+json": {
       "model_id": "d8f995b444f9451bbd6f5fd62806cf2e",
       "version_major": 2,
       "version_minor": 0
      },
      "text/plain": [
       "  0%|          | 0/377 [00:00<?, ?it/s]"
      ]
     },
     "metadata": {},
     "output_type": "display_data"
    },
    {
     "name": "stdout",
     "output_type": "stream",
     "text": [
      "[*********************100%***********************]  1 of 1 completed\n"
     ]
    },
    {
     "data": {
      "application/vnd.jupyter.widget-view+json": {
       "model_id": "7eb2f7c8b2714f0195eb5f5c6599144e",
       "version_major": 2,
       "version_minor": 0
      },
      "text/plain": [
       "  0%|          | 0/765 [00:00<?, ?it/s]"
      ]
     },
     "metadata": {},
     "output_type": "display_data"
    },
    {
     "name": "stdout",
     "output_type": "stream",
     "text": [
      "[*********************100%***********************]  1 of 1 completed\n"
     ]
    },
    {
     "data": {
      "application/vnd.jupyter.widget-view+json": {
       "model_id": "bbb6d75d4ac94299a9bcf1a0f4b612d0",
       "version_major": 2,
       "version_minor": 0
      },
      "text/plain": [
       "  0%|          | 0/1480 [00:00<?, ?it/s]"
      ]
     },
     "metadata": {},
     "output_type": "display_data"
    }
   ],
   "source": [
    "import collections\n",
    "# This is for LSTM model\n",
    "processed_data = []\n",
    "# This is for FINBERT model\n",
    "processed_data1 = []\n",
    "\n",
    "for ticker in ss_dict:\n",
    "    # Pull ticker historical prices from Yahoo Finance\n",
    "    hist = yf.download(ticker, period=\"max\")\n",
    "    # Calculate Stock price daily change by \n",
    "    # (current day close price - previous day close price)/previous day close price\n",
    "    dailyret = hist['Adj Close'].pct_change()\n",
    "    # Sorted sentiment scores based on date\n",
    "    ticker_dict = collections.OrderedDict(sorted(ss_dict[ticker].items()))\n",
    "    ticker_dict1 = collections.OrderedDict(sorted(ss_dict1[ticker].items()))\n",
    "#     sorteddate = [str(x).strip('00:00:00').strip(' ') for x in sorted(pd.to_datetime(list(ss_dict[ticker]),format='%Y-%m-%d'))]\n",
    "    for i in tqdm(ticker_dict.keys()):\n",
    "        # Calculate the diff between positive and negative scores, which will be served as an input for the final score\n",
    "        s_score = ticker_dict[i]['pos'] - ticker_dict[i]['neg']\n",
    "        s_score1 = ticker_dict1[i]['pos'] - ticker_dict1[i]['neg']\n",
    "        # final score can be calculated when there are at least 19 records ahead\n",
    "        if list(ticker_dict.keys()).index(i) >= 19:\n",
    "            # Calculate moving average of 20 days based on S score\n",
    "            ma20_score = [ticker_dict[list(ss_dict[ticker])[n]]['pos'] - ticker_dict[list(ss_dict[ticker])[n]]['neg'] for n in range(list(ticker_dict.keys()).index(i),list(ticker_dict.keys()).index(i)-20, -1)]\n",
    "            sd20_score = np.std(ma20_score)\n",
    "            ma20_score = np.mean(ma20_score)\n",
    "            # Final score will be normalized S score\n",
    "            fin_score = (s_score - ma20_score)/sd20_score\n",
    "            ma20_score1 = [ticker_dict1[list(ss_dict1[ticker])[n]]['pos'] - ticker_dict1[list(ss_dict1[ticker])[n]]['neg'] for n in range(list(ticker_dict1.keys()).index(i),list(ticker_dict1.keys()).index(i)-20, -1)]\n",
    "            sd20_score1 = np.std(ma20_score1)\n",
    "            ma20_score1 = np.mean(ma20_score1)\n",
    "            fin_score1 = (s_score1 - ma20_score1)/sd20_score1\n",
    "        else:\n",
    "            ma20_score = np.nan \n",
    "            fin_score = np.nan\n",
    "            ma20_score1 = np.nan \n",
    "            fin_score1 = np.nan\n",
    "        try:\n",
    "            processed_data.append([i, ticker, ss_dict[ticker][i]['numArticles'], ss_dict[ticker][i]['neu'], ss_dict[ticker][i]['pos'], ss_dict[ticker][i]['neg'], dailyret[i], ma20_score, fin_score])\n",
    "            processed_data1.append([i, ticker, ss_dict1[ticker][i]['numArticles'], ss_dict1[ticker][i]['neu'], ss_dict1[ticker][i]['pos'], ss_dict1[ticker][i]['neg'], dailyret[i], ma20_score1, fin_score1])\n",
    "        except:\n",
    "            pass"
   ]
  },
  {
   "cell_type": "code",
   "execution_count": 14,
   "metadata": {},
   "outputs": [],
   "source": [
    "## Aggregate to a dataframe\n",
    "# This is for LSTM model\n",
    "df = pd.DataFrame(columns =['date','ticker', 'numArticles', 'neutral', 'positive','negative','dailyreturn','movingavg20d','finalscore'], data=processed_data).dropna()\n",
    "df = df.reset_index(drop=True)\n",
    "df_score = df.drop(['numArticles', 'neutral', 'positive','negative',\n",
    "              'movingavg20d'], axis=1, inplace=False)\n",
    "# This is for FINBERT model\n",
    "df1 = pd.DataFrame(columns =['date','ticker', 'numArticles', 'neutral', 'positive','negative','dailyreturn','movingavg20d','finalscore'], data=processed_data1).dropna()\n",
    "df1 = df1.reset_index(drop=True)\n",
    "df1_score = df1.drop(['numArticles', 'neutral', 'positive','negative',\n",
    "              'movingavg20d'], axis=1, inplace=False)"
   ]
  },
  {
   "cell_type": "markdown",
   "metadata": {},
   "source": [
    "## 3. Implementing Fama-French model"
   ]
  },
  {
   "cell_type": "markdown",
   "metadata": {},
   "source": [
    "### 3a. Merge dataframe with Fama-French dataset"
   ]
  },
  {
   "cell_type": "code",
   "execution_count": 15,
   "metadata": {},
   "outputs": [],
   "source": [
    "# df1_score = pd.read_csv('Data/Final Score - FinBERT.csv')\n",
    "# Read Fama French data\n",
    "df_ff = pd.read_csv('Data/Fama_Factor.csv')\n",
    "\n",
    "# This is for LSTM model\n",
    "# Merge final score and Fama French data\n",
    "df_merged = df_ff.merge(df_score, on='date', how='right')\n",
    "# Transform all Fama French factors and final score to numeric format\n",
    "df_merged[['Mkt-RF','SMB','HML','RMW','CMA','RF','finalscore']] = df_merged[['Mkt-RF','SMB','HML','RMW','CMA','RF','finalscore']]/100\n",
    "# Define excess return, which equals to daily return minus risk free rate\n",
    "df_merged['exsreturn'] = df_merged['dailyreturn'] - df_merged['RF']\n",
    "df_merged = df_merged.rename(columns={\"Mkt-RF\": \"RMRF\"})\n",
    "\n",
    "# This is for FINBERT model\n",
    "# Merge final score and Fama French data\n",
    "df1_merged = df_ff.merge(df1_score, on='date', how='right')\n",
    "# Transform all Fama French factors and final score to numeric format\n",
    "df1_merged[['Mkt-RF','SMB','HML','RMW','CMA','RF','finalscore']] = df1_merged[['Mkt-RF','SMB','HML','RMW','CMA','RF','finalscore']]/100\n",
    "df1_merged['exsreturn'] = df1_merged['dailyreturn'] - df1_merged['RF']\n",
    "df1_merged = df1_merged.rename(columns={\"Mkt-RF\": \"RMRF\"})"
   ]
  },
  {
   "cell_type": "markdown",
   "metadata": {},
   "source": [
    "### 3b. Fit Fama-French regression without final score"
   ]
  },
  {
   "cell_type": "code",
   "execution_count": 16,
   "metadata": {
    "scrolled": true
   },
   "outputs": [
    {
     "name": "stdout",
     "output_type": "stream",
     "text": [
      "                            OLS Regression Results                            \n",
      "==============================================================================\n",
      "Dep. Variable:              exsreturn   R-squared:                       0.299\n",
      "Model:                            OLS   Adj. R-squared:                  0.299\n",
      "Method:                 Least Squares   F-statistic:                     1139.\n",
      "Date:                Thu, 03 Jun 2021   Prob (F-statistic):               0.00\n",
      "Time:                        14:07:42   Log-Likelihood:                 31100.\n",
      "No. Observations:               13359   AIC:                        -6.219e+04\n",
      "Df Residuals:                   13353   BIC:                        -6.214e+04\n",
      "Df Model:                           5                                         \n",
      "Covariance Type:            nonrobust                                         \n",
      "==============================================================================\n",
      "                 coef    std err          t      P>|t|      [0.025      0.975]\n",
      "------------------------------------------------------------------------------\n",
      "Intercept      0.0007      0.000      3.404      0.001       0.000       0.001\n",
      "RMRF           1.1655      0.020     59.546      0.000       1.127       1.204\n",
      "SMB           -0.1274      0.038     -3.370      0.001      -0.202      -0.053\n",
      "HML            0.3621      0.036     10.011      0.000       0.291       0.433\n",
      "RMW           -0.5184      0.058     -8.904      0.000      -0.632      -0.404\n",
      "CMA           -1.2722      0.075    -17.008      0.000      -1.419      -1.126\n",
      "==============================================================================\n",
      "Omnibus:                     4413.969   Durbin-Watson:                   1.993\n",
      "Prob(Omnibus):                  0.000   Jarque-Bera (JB):           454974.608\n",
      "Skew:                           0.597   Prob(JB):                         0.00\n",
      "Kurtosis:                      31.565   Cond. No.                         384.\n",
      "==============================================================================\n",
      "\n",
      "Notes:\n",
      "[1] Standard Errors assume that the covariance matrix of the errors is correctly specified.\n"
     ]
    }
   ],
   "source": [
    "import statsmodels.formula.api as smf\n",
    "import statsmodels.api as sm\n",
    "\n",
    "# This is for LSTM model\n",
    "mod1 = smf.ols(formula='''exsreturn ~ RMRF + SMB + HML + RMW + CMA''', data=df_merged)\n",
    "res1 = mod1.fit()\n",
    "print (res1.summary())"
   ]
  },
  {
   "cell_type": "code",
   "execution_count": 17,
   "metadata": {},
   "outputs": [
    {
     "name": "stdout",
     "output_type": "stream",
     "text": [
      "                            OLS Regression Results                            \n",
      "==============================================================================\n",
      "Dep. Variable:              exsreturn   R-squared:                       0.299\n",
      "Model:                            OLS   Adj. R-squared:                  0.299\n",
      "Method:                 Least Squares   F-statistic:                     1139.\n",
      "Date:                Thu, 03 Jun 2021   Prob (F-statistic):               0.00\n",
      "Time:                        14:07:42   Log-Likelihood:                 31100.\n",
      "No. Observations:               13359   AIC:                        -6.219e+04\n",
      "Df Residuals:                   13353   BIC:                        -6.214e+04\n",
      "Df Model:                           5                                         \n",
      "Covariance Type:            nonrobust                                         \n",
      "==============================================================================\n",
      "                 coef    std err          t      P>|t|      [0.025      0.975]\n",
      "------------------------------------------------------------------------------\n",
      "Intercept      0.0007      0.000      3.404      0.001       0.000       0.001\n",
      "RMRF           1.1655      0.020     59.546      0.000       1.127       1.204\n",
      "SMB           -0.1274      0.038     -3.370      0.001      -0.202      -0.053\n",
      "HML            0.3621      0.036     10.011      0.000       0.291       0.433\n",
      "RMW           -0.5184      0.058     -8.904      0.000      -0.632      -0.404\n",
      "CMA           -1.2722      0.075    -17.008      0.000      -1.419      -1.126\n",
      "==============================================================================\n",
      "Omnibus:                     4413.969   Durbin-Watson:                   1.993\n",
      "Prob(Omnibus):                  0.000   Jarque-Bera (JB):           454974.608\n",
      "Skew:                           0.597   Prob(JB):                         0.00\n",
      "Kurtosis:                      31.565   Cond. No.                         384.\n",
      "==============================================================================\n",
      "\n",
      "Notes:\n",
      "[1] Standard Errors assume that the covariance matrix of the errors is correctly specified.\n"
     ]
    }
   ],
   "source": [
    "# This is for FINBERT model\n",
    "mod2 = smf.ols(formula='''exsreturn ~ RMRF + SMB + HML + RMW + CMA''', data=df1_merged)\n",
    "res2 = mod2.fit()\n",
    "print (res2.summary())"
   ]
  },
  {
   "cell_type": "markdown",
   "metadata": {},
   "source": [
    "### 3c. Fit Fama-French regression with final score"
   ]
  },
  {
   "cell_type": "code",
   "execution_count": 18,
   "metadata": {},
   "outputs": [
    {
     "name": "stdout",
     "output_type": "stream",
     "text": [
      "                            OLS Regression Results                            \n",
      "==============================================================================\n",
      "Dep. Variable:              exsreturn   R-squared:                       0.299\n",
      "Model:                            OLS   Adj. R-squared:                  0.299\n",
      "Method:                 Least Squares   F-statistic:                     949.2\n",
      "Date:                Thu, 03 Jun 2021   Prob (F-statistic):               0.00\n",
      "Time:                        14:07:42   Log-Likelihood:                 31101.\n",
      "No. Observations:               13359   AIC:                        -6.219e+04\n",
      "Df Residuals:                   13352   BIC:                        -6.213e+04\n",
      "Df Model:                           6                                         \n",
      "Covariance Type:            nonrobust                                         \n",
      "==============================================================================\n",
      "                 coef    std err          t      P>|t|      [0.025      0.975]\n",
      "------------------------------------------------------------------------------\n",
      "Intercept      0.0007      0.000      3.444      0.001       0.000       0.001\n",
      "RMRF           1.1658      0.020     59.560      0.000       1.127       1.204\n",
      "SMB           -0.1274      0.038     -3.370      0.001      -0.202      -0.053\n",
      "HML            0.3617      0.036      9.999      0.000       0.291       0.433\n",
      "RMW           -0.5186      0.058     -8.909      0.000      -0.633      -0.405\n",
      "CMA           -1.2715      0.075    -16.999      0.000      -1.418      -1.125\n",
      "finalscore     0.0242      0.017      1.430      0.153      -0.009       0.057\n",
      "==============================================================================\n",
      "Omnibus:                     4421.763   Durbin-Watson:                   1.993\n",
      "Prob(Omnibus):                  0.000   Jarque-Bera (JB):           454968.184\n",
      "Skew:                           0.601   Prob(JB):                         0.00\n",
      "Kurtosis:                      31.564   Cond. No.                         384.\n",
      "==============================================================================\n",
      "\n",
      "Notes:\n",
      "[1] Standard Errors assume that the covariance matrix of the errors is correctly specified.\n"
     ]
    }
   ],
   "source": [
    "# This is for LSTM model\n",
    "mod3 = smf.ols(formula='''exsreturn ~ RMRF + SMB + HML + RMW + CMA + finalscore''', data=df_merged)\n",
    "res3 = mod3.fit()\n",
    "print (res3.summary())"
   ]
  },
  {
   "cell_type": "code",
   "execution_count": 19,
   "metadata": {},
   "outputs": [
    {
     "name": "stdout",
     "output_type": "stream",
     "text": [
      "                            OLS Regression Results                            \n",
      "==============================================================================\n",
      "Dep. Variable:              exsreturn   R-squared:                       0.309\n",
      "Model:                            OLS   Adj. R-squared:                  0.308\n",
      "Method:                 Least Squares   F-statistic:                     993.4\n",
      "Date:                Thu, 03 Jun 2021   Prob (F-statistic):               0.00\n",
      "Time:                        14:07:42   Log-Likelihood:                 31193.\n",
      "No. Observations:               13359   AIC:                        -6.237e+04\n",
      "Df Residuals:                   13352   BIC:                        -6.232e+04\n",
      "Df Model:                           6                                         \n",
      "Covariance Type:            nonrobust                                         \n",
      "==============================================================================\n",
      "                 coef    std err          t      P>|t|      [0.025      0.975]\n",
      "------------------------------------------------------------------------------\n",
      "Intercept      0.0008      0.000      3.982      0.000       0.000       0.001\n",
      "RMRF           1.1342      0.020     57.950      0.000       1.096       1.173\n",
      "SMB           -0.1312      0.038     -3.495      0.000      -0.205      -0.058\n",
      "HML            0.3542      0.036      9.859      0.000       0.284       0.425\n",
      "RMW           -0.5232      0.058     -9.050      0.000      -0.637      -0.410\n",
      "CMA           -1.2465      0.074    -16.775      0.000      -1.392      -1.101\n",
      "finalscore     0.2142      0.016     13.702      0.000       0.184       0.245\n",
      "==============================================================================\n",
      "Omnibus:                     4644.240   Durbin-Watson:                   2.002\n",
      "Prob(Omnibus):                  0.000   Jarque-Bera (JB):           470179.184\n",
      "Skew:                           0.698   Prob(JB):                         0.00\n",
      "Kurtosis:                      32.030   Cond. No.                         384.\n",
      "==============================================================================\n",
      "\n",
      "Notes:\n",
      "[1] Standard Errors assume that the covariance matrix of the errors is correctly specified.\n"
     ]
    }
   ],
   "source": [
    "# This is for FINBERT model\n",
    "mod4 = smf.ols(formula='''exsreturn ~ RMRF + SMB + HML + RMW + CMA + finalscore''', data=df1_merged)\n",
    "res4 = mod4.fit()\n",
    "print (res4.summary())"
   ]
  },
  {
   "cell_type": "markdown",
   "metadata": {},
   "source": [
    "When fitting Fama-French regression, we first fit for the two NLP models without final score. As expected, the R2 square is 0.299 and the same between LSTM and FinBERT models. Then we fit Fama-French regression for the two models with final score. For LSTM model, the R2 square remains the same. For FinBERT, the R2 square improves to 0.309. Also, all coefficients are significant at 5% level whether final score is included or not.\n",
    "Therefore, our pick of NLP model is FinBERT based on how significant the R2 square improves."
   ]
  },
  {
   "cell_type": "markdown",
   "metadata": {},
   "source": [
    "## 4. Building regression models"
   ]
  },
  {
   "cell_type": "markdown",
   "metadata": {},
   "source": [
    "In this section, we will predict the excess return by applying various machine learning/statistical models on combined dataset. The best model should have the best performance while meeting all the necessary conditions required for a model."
   ]
  },
  {
   "cell_type": "markdown",
   "metadata": {},
   "source": [
    "### 4a. Split test and train dataset on combined dataset"
   ]
  },
  {
   "cell_type": "code",
   "execution_count": 20,
   "metadata": {},
   "outputs": [],
   "source": [
    "# This is for FINBERT model\n",
    "# Merge final score and Fama French dataset\n",
    "df1_model = df_ff.merge(df1, on='date', how='right')\n",
    "# Transform all Fama French factors and final score to numeric format\n",
    "df1_model[['Mkt-RF','SMB','HML','RMW','CMA','RF','finalscore','neutral','positive','negative']] = df1_model[['Mkt-RF','SMB','HML','RMW','CMA','RF','finalscore','neutral','positive','negative']]/100\n",
    "df1_model['exsreturn'] = df1_model['dailyreturn'] - df1_model['RF']\n",
    "df1_model = df1_model.rename(columns={\"Mkt-RF\": \"RMRF\"})\n",
    "df1_model = df1_model.drop(['dailyreturn', 'movingavg20d'], axis=1, inplace=False)\n",
    "df1_model = df1_model.set_index('date')\n",
    "df1_model = pd.concat([pd.get_dummies(df1_model['ticker'], columns=['ticker'], prefix='ticker'),df1_model.drop(['ticker'], axis=1, inplace=False)], axis=1)\n",
    "# df1_model = pd.get_dummies(df1_model, columns=['ticker'], prefix=['ticker'])"
   ]
  },
  {
   "cell_type": "code",
   "execution_count": 21,
   "metadata": {},
   "outputs": [],
   "source": [
    "# Import necessary packages\n",
    "from sklearn.model_selection import train_test_split, cross_val_score, GridSearchCV\n",
    "from sklearn.preprocessing import StandardScaler, Normalizer\n",
    "from sklearn.pipeline import make_pipeline\n",
    "from sklearn.decomposition import PCA\n",
    "from sklearn.linear_model import LinearRegression\n",
    "from sklearn.tree import DecisionTreeRegressor\n",
    "from sklearn.ensemble import VotingRegressor, BaggingRegressor, RandomForestRegressor, GradientBoostingRegressor, AdaBoostRegressor\n",
    "from sklearn.svm import SVR\n",
    "from sklearn.metrics import accuracy_score, classification_report, mean_squared_error as MSE, r2_score\n",
    "\n",
    "# Set SEED for reproducibility\n",
    "SEED = 1\n",
    "\n",
    "# y is excess return\n",
    "y=df1_model.iloc[:,23]\n",
    "# x is the rest of variables\n",
    "x=df1_model.iloc[:,0:23]\n",
    "\n",
    "# Split the data into 75% train and 25% test\n",
    "X_train, X_test, y_train, y_test = train_test_split(x, y, test_size=0.25, random_state=SEED)\n"
   ]
  },
  {
   "cell_type": "code",
   "execution_count": 22,
   "metadata": {},
   "outputs": [],
   "source": [
    "# Function to collect RMSE for train, train CV, test and R2 score of a given model\n",
    "def ModelPerf(model):\n",
    "    model.fit(X_train, y_train)\n",
    "\n",
    "    # Predict the interest rate of the training set\n",
    "    y_pred_train = model.predict(X_train)\n",
    "\n",
    "    # Evaluate the training set RMSE of the model\n",
    "    RMSE_train = (MSE(y_train, y_pred_train))**(1/2)\n",
    "\n",
    "    # Print RMSE_train\n",
    "    print('Train RMSE of ' + type(model).__name__ + ' model is: {:.3f}'.format(RMSE_train))\n",
    "\n",
    "    # Compute the array containing the 10-folds CV MSEs\n",
    "    MSE_CV_scores = - cross_val_score(model, X_train, y_train, cv=10, \n",
    "                                  scoring='neg_mean_squared_error', \n",
    "                                  n_jobs=-1) \n",
    "\n",
    "    # Compute the 10-folds CV RMSE\n",
    "    RMSE_CV = (MSE_CV_scores.mean())**(1/2)\n",
    "\n",
    "    # Print RMSE_CV\n",
    "    print('Train RMSE of ' + type(model).__name__ + ' CV model is: {:.3f}'.format(RMSE_CV))\n",
    "\n",
    "    # Predict the excess return of the test set\n",
    "    y_pred = model.predict(X_test)\n",
    "\n",
    "    # Compute rmse_test for test set\n",
    "    RMSE_test = (MSE(y_test, y_pred))**(1/2)\n",
    "\n",
    "    # Print rmse_test\n",
    "    print('Test RMSE of ' + type(model).__name__ + ' model is: {:.3f}'.format(RMSE_test))\n",
    "\n",
    "    # Print r2 score\n",
    "    r2score = model.score(X_test, y_test)\n",
    "    print('Test R2 score of ' + type(model).__name__ + ' model is: {:.4f}'.format(r2score))\n",
    "    return [RMSE_train,RMSE_CV,RMSE_test,r2score]"
   ]
  },
  {
   "cell_type": "markdown",
   "metadata": {},
   "source": [
    "### 4b. Apply dimension reduction on the dataset"
   ]
  },
  {
   "cell_type": "markdown",
   "metadata": {},
   "source": [
    "We can apply PCA to reduce the dimension since the dataset has 24 columns. First we plot the fraction of explained variance to determine appropriate number of components to keep."
   ]
  },
  {
   "cell_type": "code",
   "execution_count": 25,
   "metadata": {},
   "outputs": [
    {
     "data": {
      "image/png": "[encoded data removed]",
      "text/plain": [
       "<Figure size 720x432 with 1 Axes>"
      ]
     },
     "metadata": {},
     "output_type": "display_data"
    },
    {
     "data": {
      "text/plain": [
       "<Figure size 432x288 with 0 Axes>"
      ]
     },
     "metadata": {},
     "output_type": "display_data"
    }
   ],
   "source": [
    "from sklearn.decomposition import PCA\n",
    "from sklearn.preprocessing import StandardScaler\n",
    "from sklearn.pipeline import make_pipeline\n",
    "import matplotlib.pyplot as plt\n",
    "import seaborn as sns\n",
    "\n",
    "# Create scaler: scaler\n",
    "scaler = StandardScaler()\n",
    "\n",
    "# Create a PCA instance: pca\n",
    "pca = PCA()\n",
    "\n",
    "# Create pipeline: pipeline\n",
    "pipeline = make_pipeline(scaler, pca)\n",
    "\n",
    "# Fit the pipeline to 'samples'\n",
    "pipeline.fit(X_train)\n",
    "\n",
    "# We compute the cumulaive variance\n",
    "lmts = [0.75, 0.9, 0.95, 0.99]\n",
    "vars = np.cumsum(pca.explained_variance_ratio_)\n",
    "vls = np.array([np.argmax(vars > i) for i in lmts])\n",
    "\n",
    "# Make the plot\n",
    "sns.set(style=\"ticks\", font_scale=2.0)\n",
    "fig, ax = plt.subplots(figsize=(10,6))\n",
    "\n",
    "# Decorate the plot\n",
    "ax.set_xlabel('Dimension #')\n",
    "ax.set_ylabel('Explained Variance Ratio')\n",
    "ax.set_title('Fraction of Explained Variance')\n",
    "\n",
    "ax.set_xlim(0, 23.0)\n",
    "ax.set_ylim(0, 0.12)\n",
    "\n",
    "# Draw lines for the cumulative variance\n",
    "ax.vlines(vls, 0.0, 0.05, linestyles='dashed') #colors=sns.xkcd_rgb)\n",
    "for xl, txt in zip(vls, lmts):\n",
    "    ax.text(xl, 0.055, str(txt), fontsize = 18, \\\n",
    "            color=sns.xkcd_rgb[\"pale red\"], \\\n",
    "            horizontalalignment='center')\n",
    "    \n",
    "# Now draw the points, with bolder colors.\n",
    "plt.plot(pca.explained_variance_ratio_, color=sns.xkcd_rgb[\"denim blue\"], linewidth=3)\n",
    "\n",
    "plt.show()\n",
    "sns.despine(offset=5, trim=True)"
   ]
  },
  {
   "cell_type": "markdown",
   "metadata": {},
   "source": [
    "We will pick n_components = 18 for PCA, which explains over 95% of variance."
   ]
  },
  {
   "cell_type": "code",
   "execution_count": 26,
   "metadata": {},
   "outputs": [],
   "source": [
    "# Apply PCA and standard scaler on the dataset\n",
    "pca = PCA(n_components=18)\n",
    "# Create scaler: scaler\n",
    "scaler = StandardScaler()\n",
    "# Create pipeline: pipeline\n",
    "pipeline = make_pipeline(scaler, pca)\n",
    "\n",
    "X_train = pipeline.fit_transform(X_train)\n",
    "X_test = pipeline.transform(X_test)"
   ]
  },
  {
   "cell_type": "markdown",
   "metadata": {},
   "source": [
    "### 4c. Fit Linear Regression model"
   ]
  },
  {
   "cell_type": "code",
   "execution_count": 27,
   "metadata": {},
   "outputs": [
    {
     "name": "stdout",
     "output_type": "stream",
     "text": [
      "Train RMSE of LinearRegression model is: 0.024\n",
      "Train RMSE of LinearRegression CV model is: 0.024\n",
      "Test RMSE of LinearRegression model is: 0.022\n",
      "Test R2 score of LinearRegression model is: 0.3012\n"
     ]
    }
   ],
   "source": [
    "lm = LinearRegression(n_jobs=-1)\n",
    "lmscore = ModelPerf(lm)"
   ]
  },
  {
   "cell_type": "markdown",
   "metadata": {},
   "source": [
    "### 4d. Fit Support Vector Regression model"
   ]
  },
  {
   "cell_type": "code",
   "execution_count": 28,
   "metadata": {},
   "outputs": [
    {
     "name": "stdout",
     "output_type": "stream",
     "text": [
      "Train RMSE of SVR model is: 0.033\n",
      "Train RMSE of SVR CV model is: 0.034\n",
      "Test RMSE of SVR model is: 0.032\n",
      "Test R2 score of SVR model is: -0.5042\n"
     ]
    }
   ],
   "source": [
    "C = 1.0  # SVR regularization parameter\n",
    "lin_svr = SVR(kernel='linear', C=C)\n",
    "lin_svrscore = ModelPerf(lin_svr)"
   ]
  },
  {
   "cell_type": "code",
   "execution_count": 29,
   "metadata": {},
   "outputs": [
    {
     "name": "stdout",
     "output_type": "stream",
     "text": [
      "Train RMSE of SVR model is: 0.028\n",
      "Train RMSE of SVR CV model is: 0.028\n",
      "Test RMSE of SVR model is: 0.026\n",
      "Test R2 score of SVR model is: -0.0457\n"
     ]
    }
   ],
   "source": [
    "# # Feature engineering for kernel='rbf' with Grid Search\n",
    "# param_grid = {'gamma':[0.000001, 0.00001, 0.0001, 0.001, 0.01, 0.1]}\n",
    "# rbf_svr = SVR(kernel='rbf', C=C)\n",
    "# grid_cv_rbf = GridSearchCV(rbf_svr, param_grid, cv=10, n_jobs=-1)\n",
    "# grid_cv_rbf.fit(X_train, y_train)\n",
    "# grid_cv_rbf.best_params_ \n",
    "# {'gamma': 0.0001}\n",
    "\n",
    "rbf_svr = SVR(kernel='rbf', gamma=0.0001, C=C)\n",
    "rbf_svrscore = ModelPerf(rbf_svr)"
   ]
  },
  {
   "cell_type": "code",
   "execution_count": 30,
   "metadata": {},
   "outputs": [
    {
     "name": "stdout",
     "output_type": "stream",
     "text": [
      "Train RMSE of SVR model is: 0.033\n",
      "Train RMSE of SVR CV model is: 0.034\n",
      "Test RMSE of SVR model is: 0.032\n",
      "Test R2 score of SVR model is: -0.5075\n"
     ]
    }
   ],
   "source": [
    "# Feature engineering for kernel='poly' with Grid Search\n",
    "# param_grid = {'degree':list(range(1,5))}\n",
    "# poly_svr = SVR(kernel='poly', C=C)\n",
    "# grid_cv_poly = GridSearchCV(poly_svr, param_grid, cv=10, n_jobs=-1)\n",
    "# grid_cv_poly.fit(X_train, y_train)\n",
    "# grid_cv_poly.best_params_\n",
    "# {'degree': 1}\n",
    "\n",
    "poly_svr = SVR(kernel='poly', degree=1, C=C)\n",
    "poly_svrscore = ModelPerf(poly_svr)"
   ]
  },
  {
   "cell_type": "markdown",
   "metadata": {},
   "source": [
    "### 4e. Fit Decision Tree Regressor model"
   ]
  },
  {
   "cell_type": "code",
   "execution_count": 31,
   "metadata": {},
   "outputs": [
    {
     "name": "stdout",
     "output_type": "stream",
     "text": [
      "Train RMSE of DecisionTreeRegressor model is: 0.023\n",
      "Train RMSE of DecisionTreeRegressor CV model is: 0.026\n",
      "Test RMSE of DecisionTreeRegressor model is: 0.023\n",
      "Test R2 score of DecisionTreeRegressor model is: 0.1884\n"
     ]
    }
   ],
   "source": [
    "# Feature engineering for Decision Tree Regressor with Grid Search\n",
    "# param_grid = {\"max_depth\": [2, 4, 6, 8],\n",
    "#               \"min_samples_leaf\": list(range(1,11))}\n",
    "# dt = DecisionTreeRegressor(random_state=SEED)\n",
    "# grid_cv_dt = GridSearchCV(dt, param_grid, cv=10, n_jobs=-1)\n",
    "# grid_cv_dt.fit(X_train, y_train)\n",
    "# grid_cv_dt.best_params_\n",
    "# {'max_depth': 8, 'min_samples_leaf': 9}\n",
    "\n",
    "dt = DecisionTreeRegressor(max_depth= 8, min_samples_leaf= 9, random_state=SEED)\n",
    "dtscore = ModelPerf(dt)"
   ]
  },
  {
   "cell_type": "markdown",
   "metadata": {},
   "source": [
    "### 4f. Fit Random Forest Regressor model"
   ]
  },
  {
   "cell_type": "code",
   "execution_count": 32,
   "metadata": {},
   "outputs": [
    {
     "name": "stdout",
     "output_type": "stream",
     "text": [
      "Train RMSE of RandomForestRegressor model is: 0.022\n",
      "Train RMSE of RandomForestRegressor CV model is: 0.024\n",
      "Test RMSE of RandomForestRegressor model is: 0.021\n",
      "Test R2 score of RandomForestRegressor model is: 0.3126\n"
     ]
    }
   ],
   "source": [
    "# Feature engineering for Random Tree Regressor with Grid Search\n",
    "# param_grid = {\"max_depth\": [2, 4, 6, 8],\n",
    "#               \"min_samples_leaf\": list(range(1,11)),\n",
    "#              \"n_estimators\": [100, 200, 300, 400, 500]}\n",
    "# rf = RandomForestRegressor(random_state=SEED)\n",
    "# grid_cv_rf = GridSearchCV(rf, param_grid, cv=10, n_jobs=-1)\n",
    "# grid_cv_rf.fit(X_train, y_train)\n",
    "# grid_cv_rf.best_params_\n",
    "# {'max_depth': 8, 'min_samples_leaf': 10, 'n_estimators': 400}\n",
    "\n",
    "rf = RandomForestRegressor(max_depth= 8, min_samples_leaf= 10, n_estimators = 400, random_state=SEED)\n",
    "rfscore = ModelPerf(rf)"
   ]
  },
  {
   "cell_type": "markdown",
   "metadata": {},
   "source": [
    "### 4g. Fit Gradient Boosting Regressor model"
   ]
  },
  {
   "cell_type": "code",
   "execution_count": 33,
   "metadata": {},
   "outputs": [
    {
     "name": "stdout",
     "output_type": "stream",
     "text": [
      "Train RMSE of GradientBoostingRegressor model is: 0.019\n",
      "Train RMSE of GradientBoostingRegressor CV model is: 0.023\n",
      "Test RMSE of GradientBoostingRegressor model is: 0.021\n",
      "Test R2 score of GradientBoostingRegressor model is: 0.3524\n"
     ]
    }
   ],
   "source": [
    "# Feature engineering for Gradient Boosting Regressor with Grid Search\n",
    "# param_grid = {\"max_depth\": [2, 4, 6, 8],\n",
    "#               \"loss\": ['ls', 'lad', 'huber', 'quantile'],\n",
    "#               \"n_estimators\": [100, 200, 300, 400, 500]}\n",
    "# gb = GradientBoostingRegressor(random_state=SEED)\n",
    "# grid_cv_gb = GridSearchCV(gb, param_grid, cv=10, n_jobs=-1)\n",
    "# grid_cv_gb.fit(X_train, y_train)\n",
    "# grid_cv_gb.best_params_\n",
    "# {'loss': 'huber', 'max_depth': 4, 'n_estimators': 200}\n",
    "\n",
    "\n",
    "gb = GradientBoostingRegressor(loss='huber', max_depth=4, n_estimators=200, random_state=SEED)\n",
    "gbscore = ModelPerf(gb)"
   ]
  },
  {
   "cell_type": "markdown",
   "metadata": {},
   "source": [
    "### 4h. Fit Ada Boost Regressor model"
   ]
  },
  {
   "cell_type": "code",
   "execution_count": 34,
   "metadata": {},
   "outputs": [
    {
     "name": "stdout",
     "output_type": "stream",
     "text": [
      "Train RMSE of AdaBoostRegressor model is: 0.015\n",
      "Train RMSE of AdaBoostRegressor CV model is: 0.024\n",
      "Test RMSE of AdaBoostRegressor model is: 0.021\n",
      "Test R2 score of AdaBoostRegressor model is: 0.3396\n"
     ]
    }
   ],
   "source": [
    "ab = AdaBoostRegressor(base_estimator=gb, n_estimators=10, random_state=SEED)\n",
    "abscore = ModelPerf(ab)"
   ]
  },
  {
   "cell_type": "markdown",
   "metadata": {},
   "source": [
    "### 4i. Fit Voting Regressor model"
   ]
  },
  {
   "cell_type": "code",
   "execution_count": 35,
   "metadata": {},
   "outputs": [
    {
     "name": "stdout",
     "output_type": "stream",
     "text": [
      "Train RMSE of VotingRegressor model is: 0.019\n",
      "Train RMSE of VotingRegressor CV model is: 0.023\n",
      "Test RMSE of VotingRegressor model is: 0.021\n",
      "Test R2 score of VotingRegressor model is: 0.3605\n"
     ]
    }
   ],
   "source": [
    "# Define regressors\n",
    "regressors = [('Linear Regression', lm),('Random Forest',rf),('Ada Boost',ab),('Gradient Boosting',gb)]\n",
    "vr = VotingRegressor(estimators=regressors, n_jobs=-1)\n",
    "vrscore = ModelPerf(vr)"
   ]
  },
  {
   "cell_type": "markdown",
   "metadata": {},
   "source": [
    "### 4j. Fit Bagging Regressor model"
   ]
  },
  {
   "cell_type": "code",
   "execution_count": 36,
   "metadata": {},
   "outputs": [
    {
     "name": "stdout",
     "output_type": "stream",
     "text": [
      "Train RMSE of BaggingRegressor model is: 0.020\n",
      "Train RMSE of BaggingRegressor CV model is: 0.023\n",
      "Test RMSE of BaggingRegressor model is: 0.021\n",
      "Test R2 score of BaggingRegressor model is: 0.3591\n"
     ]
    }
   ],
   "source": [
    "# Take random forest model as the base because of its best performance\n",
    "br = BaggingRegressor(base_estimator=gb, n_estimators=10,\n",
    "n_jobs=-1, random_state=SEED)\n",
    "brscore = ModelPerf(br)"
   ]
  },
  {
   "cell_type": "markdown",
   "metadata": {},
   "source": [
    "### 4k. The winner is..."
   ]
  },
  {
   "cell_type": "code",
   "execution_count": 37,
   "metadata": {},
   "outputs": [
    {
     "data": {
      "text/html": [
       "<div>\n",
       "<style scoped>\n",
       "    .dataframe tbody tr th:only-of-type {\n",
       "        vertical-align: middle;\n",
       "    }\n",
       "\n",
       "    .dataframe tbody tr th {\n",
       "        vertical-align: top;\n",
       "    }\n",
       "\n",
       "    .dataframe thead th {\n",
       "        text-align: right;\n",
       "    }\n",
       "</style>\n",
       "<table border=\"1\" class=\"dataframe\">\n",
       "  <thead>\n",
       "    <tr style=\"text-align: right;\">\n",
       "      <th></th>\n",
       "      <th>Train RMSE</th>\n",
       "      <th>Train RMSE CV</th>\n",
       "      <th>Test RMSE</th>\n",
       "      <th>R2 Score</th>\n",
       "    </tr>\n",
       "  </thead>\n",
       "  <tbody>\n",
       "    <tr>\n",
       "      <th>Voting Regression</th>\n",
       "      <td>0.019</td>\n",
       "      <td>0.023</td>\n",
       "      <td>0.021</td>\n",
       "      <td>36.05%</td>\n",
       "    </tr>\n",
       "    <tr>\n",
       "      <th>Bagging Regression</th>\n",
       "      <td>0.020</td>\n",
       "      <td>0.023</td>\n",
       "      <td>0.021</td>\n",
       "      <td>35.91%</td>\n",
       "    </tr>\n",
       "    <tr>\n",
       "      <th>Gradient Boosting</th>\n",
       "      <td>0.019</td>\n",
       "      <td>0.023</td>\n",
       "      <td>0.021</td>\n",
       "      <td>35.24%</td>\n",
       "    </tr>\n",
       "    <tr>\n",
       "      <th>Ada Boost</th>\n",
       "      <td>0.015</td>\n",
       "      <td>0.024</td>\n",
       "      <td>0.021</td>\n",
       "      <td>33.96%</td>\n",
       "    </tr>\n",
       "    <tr>\n",
       "      <th>Random Forest</th>\n",
       "      <td>0.022</td>\n",
       "      <td>0.024</td>\n",
       "      <td>0.021</td>\n",
       "      <td>31.26%</td>\n",
       "    </tr>\n",
       "    <tr>\n",
       "      <th>Linear Regression</th>\n",
       "      <td>0.024</td>\n",
       "      <td>0.024</td>\n",
       "      <td>0.022</td>\n",
       "      <td>30.12%</td>\n",
       "    </tr>\n",
       "    <tr>\n",
       "      <th>Decision Tree</th>\n",
       "      <td>0.023</td>\n",
       "      <td>0.026</td>\n",
       "      <td>0.023</td>\n",
       "      <td>18.84%</td>\n",
       "    </tr>\n",
       "    <tr>\n",
       "      <th>RBF SVR</th>\n",
       "      <td>0.028</td>\n",
       "      <td>0.028</td>\n",
       "      <td>0.026</td>\n",
       "      <td>-4.57%</td>\n",
       "    </tr>\n",
       "    <tr>\n",
       "      <th>Linear SVR</th>\n",
       "      <td>0.033</td>\n",
       "      <td>0.034</td>\n",
       "      <td>0.032</td>\n",
       "      <td>-50.42%</td>\n",
       "    </tr>\n",
       "    <tr>\n",
       "      <th>POLY SVR</th>\n",
       "      <td>0.033</td>\n",
       "      <td>0.034</td>\n",
       "      <td>0.032</td>\n",
       "      <td>-50.75%</td>\n",
       "    </tr>\n",
       "  </tbody>\n",
       "</table>\n",
       "</div>"
      ],
      "text/plain": [
       "                    Train RMSE  Train RMSE CV  Test RMSE R2 Score\n",
       "Voting Regression        0.019          0.023      0.021   36.05%\n",
       "Bagging Regression       0.020          0.023      0.021   35.91%\n",
       "Gradient Boosting        0.019          0.023      0.021   35.24%\n",
       "Ada Boost                0.015          0.024      0.021   33.96%\n",
       "Random Forest            0.022          0.024      0.021   31.26%\n",
       "Linear Regression        0.024          0.024      0.022   30.12%\n",
       "Decision Tree            0.023          0.026      0.023   18.84%\n",
       "RBF SVR                  0.028          0.028      0.026   -4.57%\n",
       "Linear SVR               0.033          0.034      0.032  -50.42%\n",
       "POLY SVR                 0.033          0.034      0.032  -50.75%"
      ]
     },
     "execution_count": 37,
     "metadata": {},
     "output_type": "execute_result"
    }
   ],
   "source": [
    "perf_df = pd.DataFrame(data={\"Train RMSE\": [lmscore[0], lin_svrscore[0], rbf_svrscore[0], poly_svrscore[0],\n",
    "                                       dtscore[0], rfscore[0], vrscore[0], brscore[0], gbscore[0], abscore[0]], \n",
    "                         \"Train RMSE CV\": [lmscore[1], lin_svrscore[1], rbf_svrscore[1], poly_svrscore[1],\n",
    "                                       dtscore[1], rfscore[1], vrscore[1], brscore[1], gbscore[1], abscore[1]], \n",
    "                         \"Test RMSE\": [lmscore[2], lin_svrscore[2], rbf_svrscore[2], poly_svrscore[2],\n",
    "                                       dtscore[2], rfscore[2], vrscore[2], brscore[2], gbscore[2], abscore[2]], \n",
    "                         \"R2 Score\": [lmscore[3], lin_svrscore[3], rbf_svrscore[3], poly_svrscore[3],\n",
    "                                       dtscore[3], rfscore[3], vrscore[3], brscore[3], gbscore[3], abscore[3]]},\n",
    "                  index=['Linear Regression', 'Linear SVR', 'RBF SVR', 'POLY SVR', 'Decision Tree',\n",
    "                        'Random Forest', 'Voting Regression', 'Bagging Regression','Gradient Boosting',\n",
    "                        'Ada Boost'])\n",
    "perf_df = perf_df.sort_values(by=['R2 Score'], ascending=False)\n",
    "perf_df[['Train RMSE','Train RMSE CV','Test RMSE']] = round(perf_df[['Train RMSE','Train RMSE CV','Test RMSE']],3)\n",
    "perf_df[['R2 Score']] = perf_df['R2 Score'].map(\"{:.2%}\".format)\n",
    "perf_df"
   ]
  },
  {
   "cell_type": "markdown",
   "metadata": {},
   "source": [
    "Voting Regression model has the highest R2 score but the RMSE for training, for training CV and for test datasets are not very close. Bagging Regression's R2 score is just 0.14% lower than Voting Regression, but the three errors are much closwer. Therefore, we favor Bagging Regression over Voting Regression."
   ]
  },
  {
   "cell_type": "markdown",
   "metadata": {},
   "source": [
    "### 4l. Determine feature importance based on Gradient Boosting model"
   ]
  },
  {
   "cell_type": "markdown",
   "metadata": {},
   "source": [
    "The fitted Gradient Boosting model above uses pca transformed data so feature columns do not imply anything. To evaluate which feature plays a more important role in terms of explaining the variance, we will bring back the orginal training and test data, refit Gradient Boosting model and plot the feature importance chart."
   ]
  },
  {
   "cell_type": "code",
   "execution_count": 38,
   "metadata": {},
   "outputs": [
    {
     "name": "stdout",
     "output_type": "stream",
     "text": [
      "Train RMSE of GradientBoostingRegressor model is: 0.016\n",
      "Train RMSE of GradientBoostingRegressor CV model is: 0.023\n",
      "Test RMSE of GradientBoostingRegressor model is: 0.020\n",
      "Test R2 score of GradientBoostingRegressor model is: 0.3997\n"
     ]
    }
   ],
   "source": [
    "X_train, X_test, y_train, y_test = train_test_split(x, y, test_size=0.25, random_state=SEED)\n",
    "\n",
    "# Feature engineering for Gradient Boosting Regressor with Grid Search\n",
    "# param_grid = {\"max_depth\": [2, 4, 6, 8],\n",
    "#               \"loss\": ['ls', 'lad', 'huber', 'quantile'],\n",
    "#               \"n_estimators\": [100, 200, 300, 400, 500]}\n",
    "# gb = GradientBoostingRegressor(random_state=SEED)\n",
    "# grid_cv_gb = GridSearchCV(gb, param_grid, cv=10, n_jobs=-1)\n",
    "# grid_cv_gb.fit(X_train, y_train)\n",
    "# grid_cv_gb.best_params_\n",
    "# {'loss': 'huber', 'max_depth': 6, 'n_estimators': 200}\n",
    "\n",
    "gb1 = GradientBoostingRegressor(loss='huber', max_depth=6, n_estimators=200, random_state=SEED)\n",
    "gb1score = ModelPerf(gb1)"
   ]
  },
  {
   "cell_type": "code",
   "execution_count": 39,
   "metadata": {},
   "outputs": [
    {
     "data": {
      "image/png": "[encoded data removed]",
      "text/plain": [
       "<Figure size 720x504 with 1 Axes>"
      ]
     },
     "metadata": {},
     "output_type": "display_data"
    },
    {
     "name": "stdout",
     "output_type": "stream",
     "text": [
      "All Fama-French factors explain 67.1% of feature importance.\n",
      "All Sentiment scores explain 17.9% of feature importance.\n"
     ]
    }
   ],
   "source": [
    "# Create a pd.Series of features importances, based on gb\n",
    "import matplotlib.pyplot as plt\n",
    "importances_gb = pd.Series(gb1.feature_importances_,\n",
    "index = X_train.columns)\n",
    "plt.rc('figure', figsize=(10, 7))\n",
    "fig, ax = plt.subplots()\n",
    "# Sort importances_gb\n",
    "sorted_importances_gb = importances_gb.sort_values()\n",
    "# Make a horizontal bar plot\n",
    "sorted_importances_gb.plot(kind='barh', color='blue')\n",
    "ax.tick_params(axis='both', which='major', labelsize=10)\n",
    "plt.title(\"Feature importance based on Gradient Boosting\")\n",
    "plt.show()\n",
    "\n",
    "# # Create a pd.Series of features importances, based on rf\n",
    "# import matplotlib.pyplot as plt\n",
    "# importances_rf = pd.Series(rf1.feature_importances_,\n",
    "# index = X_train.columns)\n",
    "# plt.rc('figure', figsize=(10, 7))\n",
    "# fig, ax = plt.subplots()\n",
    "# # Sort importances_rf\n",
    "# sorted_importances_rf = importances_rf.sort_values()\n",
    "# # Make a horizontal bar plot\n",
    "# sorted_importances_rf.plot(kind='barh', color='blue')\n",
    "# ax.tick_params(axis='both', which='major', labelsize=10)\n",
    "# plt.show()\n",
    "\n",
    "# sorted_importances_rf1 = importances_rf.sort_values(ascending=False)\n",
    "# print('All Fama-French factors explain ' + \"{:.1%}\".format(sum(sorted_importances_rf1[['RMRF','HML','CMA','RMW','SMB']]),2) + ' of feature importance.') \n",
    "# print('All Sentiment scores explain ' + \"{:.1%}\".format(sum(sorted_importances_rf1[['negative','positive','neutral','finalscore']]),2) + ' of feature importance.') \n",
    "\n",
    "sorted_importances_gb1 = importances_gb.sort_values(ascending=False)\n",
    "print('All Fama-French factors explain ' + \"{:.1%}\".format(sum(sorted_importances_gb1[['RMRF','HML','CMA','RMW','SMB']]),2) + ' of feature importance.') \n",
    "print('All Sentiment scores explain ' + \"{:.1%}\".format(sum(sorted_importances_gb1[['negative','positive','neutral','finalscore']]),2) + ' of feature importance.') "
   ]
  },
  {
   "cell_type": "markdown",
   "metadata": {},
   "source": [
    "The bar plot aboves shows feature importance based on how well the excess return is explained by that feature from Gradient Boosting model. The 'RMRF' takes a strong position which explains 50% of importance. 'HML' takes the second place which explains roughly 8%. Also, note all Fama French factors contribute over 67% to the overall importance. We also notice that the sentiment scores (final score, negative, positive, neutral) combined, explain 18% of feature importance."
   ]
  },
  {
   "cell_type": "markdown",
   "metadata": {},
   "source": [
    "## 5. Clustering"
   ]
  },
  {
   "cell_type": "markdown",
   "metadata": {},
   "source": [
    "In stock markets, there is the term 'Buy the Rumor, Sell the News'. If our Sentiment Score is high, then possibly, the news is already reflected in the stock price. So our next question is: are we buying at a high price and selling at a low price? Here, we used the clustering method to identify any abnormal return found on the return distribution to test this. "
   ]
  },
  {
   "cell_type": "code",
   "execution_count": 40,
   "metadata": {},
   "outputs": [],
   "source": [
    "# Create df for cluster model; This is based on FinBERT model\n",
    "df1_cluster = df1.drop(['numArticles', 'neutral', 'positive','negative',\n",
    "              'movingavg20d','ticker'], axis=1, inplace=False)\n",
    "df1_cluster = df1_cluster.set_index('date')\n",
    "# Normalize the data\n",
    "stscaler = StandardScaler().fit(df1_cluster)\n",
    "df1_cluster = stscaler.transform(df1_cluster)"
   ]
  },
  {
   "cell_type": "code",
   "execution_count": 41,
   "metadata": {},
   "outputs": [
    {
     "data": {
      "image/png": "[encoded data removed]",
      "text/plain": [
       "<Figure size 864x720 with 1 Axes>"
      ]
     },
     "metadata": {},
     "output_type": "display_data"
    }
   ],
   "source": [
    "from sklearn.cluster import KMeans\n",
    "\n",
    "# Fit Kmeans\n",
    "k_means = KMeans(n_clusters=10, random_state=SEED)\n",
    "k_means.fit(df1_cluster)\n",
    "# Obtain the labels\n",
    "labels = k_means.predict(df1_cluster)\n",
    "\n",
    "# Get unique labels\n",
    "uniq_labels = np.unique(labels)\n",
    "plt.rcParams['figure.figsize'] = (12, 10)\n",
    "plt.style.use('ggplot')\n",
    "clr = [\"#00B0F6\",\"#39B600\",\"#FF62BC\",\"#F8766D\",\"#D89000\",\"#00BFC4\",\"#00BF7D\",\"#E76BF3\",\"#A3A500\",\"#9590FF\"]\n",
    "# Plot the results:\n",
    "for i in uniq_labels:\n",
    "    plt.scatter(df1_cluster[labels == i , 1] , df1_cluster[labels == i , 0] , color = clr[i], label = i, s = 8)\n",
    "plt.xlabel('score_z', fontsize=18)\n",
    "plt.ylabel('close_z', fontsize=18) \n",
    "plt.legend(title='cluster', bbox_to_anchor=(1.05, 1), fontsize=18, loc='upper left', prop={'size': 15})\n",
    "plt.show()"
   ]
  },
  {
   "cell_type": "markdown",
   "metadata": {},
   "source": [
    "On the Northeast side, we found more clustering with the positive returns and positive sentiments. On the Southwest side, we found more clustering with the negative returns and negative sentiments. The abnormal returns found on the center not on the tail. Therefore, we are not buying a high price and selling at a low price."
   ]
  },
  {
   "cell_type": "markdown",
   "metadata": {},
   "source": [
    "## 6. Summary"
   ]
  },
  {
   "cell_type": "markdown",
   "metadata": {},
   "source": [
    "Overall, there is still a room to improve in terms of the prediction power on excess return for the fitted model, as the R2 score is just over 36%. We can include more meaningful features or spend more time on feature engineering to improve the score. Upon completion of the project, we learn four things.\n",
    "\n",
    "First, FinBERT model outperforms LSTM model in terms of producing better and more accurate sentiment score.\n",
    "\n",
    "Second, the inclusion of sentiment as the six factor scores improves the traditional Fach-French model.\n",
    "\n",
    "Third, when fitting regression model to predict excess returns, the Fama-French factors explain over 67% of feature importance and the sentiment scores explain over 18% of feature importance.\n",
    "\n",
    "Fourth, from an investor perspective, we are not buying a high price and selling at a low price."
   ]
  }
 ],
 "metadata": {
  "anaconda-cloud": {},
  "kernelspec": {
   "display_name": "Python 3 (ipykernel)",
   "language": "python",
   "name": "python3"
  },
  "language_info": {
   "codemirror_mode": {
    "name": "ipython",
    "version": 3
   },
   "file_extension": ".py",
   "mimetype": "text/x-python",
   "name": "python",
   "nbconvert_exporter": "python",
   "pygments_lexer": "ipython3",
   "version": "3.8.15"
  }
 },
 "nbformat": 4,
 "nbformat_minor": 4
}
